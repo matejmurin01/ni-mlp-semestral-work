{
 "cells": [
  {
   "cell_type": "code",
   "execution_count": 1,
   "metadata": {},
   "outputs": [],
   "source": [
    "import pandas as pd\n",
    "import numpy as np\n",
    "from tqdm.auto import tqdm\n",
    "import matplotlib.pyplot as plt\n",
    "from sklearn.tree import DecisionTreeClassifier, plot_tree\n",
    "from sklearn.metrics import mean_absolute_error, f1_score, confusion_matrix, accuracy_score\n",
    "from sklearn.model_selection import KFold, StratifiedKFold, ParameterGrid\n",
    "from sklearn.linear_model import Lasso\n",
    "from multiprocess import Pool"
   ]
  },
  {
   "cell_type": "code",
   "execution_count": 2,
   "metadata": {},
   "outputs": [
    {
     "data": {
      "text/html": [
       "<div>\n",
       "<style scoped>\n",
       "    .dataframe tbody tr th:only-of-type {\n",
       "        vertical-align: middle;\n",
       "    }\n",
       "\n",
       "    .dataframe tbody tr th {\n",
       "        vertical-align: top;\n",
       "    }\n",
       "\n",
       "    .dataframe thead th {\n",
       "        text-align: right;\n",
       "    }\n",
       "</style>\n",
       "<table border=\"1\" class=\"dataframe\">\n",
       "  <thead>\n",
       "    <tr style=\"text-align: right;\">\n",
       "      <th></th>\n",
       "      <th>rank</th>\n",
       "      <th>player</th>\n",
       "      <th>nick</th>\n",
       "      <th>age</th>\n",
       "      <th>position</th>\n",
       "      <th>team</th>\n",
       "      <th>games_played</th>\n",
       "      <th>goals</th>\n",
       "      <th>assists</th>\n",
       "      <th>points</th>\n",
       "      <th>...</th>\n",
       "      <th>num_blocked_shots</th>\n",
       "      <th>num_hits</th>\n",
       "      <th>faceoff_wins</th>\n",
       "      <th>faceoff_losses</th>\n",
       "      <th>faceoff_success_rate</th>\n",
       "      <th>num_HT_wins</th>\n",
       "      <th>num_HT_votes</th>\n",
       "      <th>season</th>\n",
       "      <th>traded_next_season</th>\n",
       "      <th>num_HT_votes_next_season</th>\n",
       "    </tr>\n",
       "  </thead>\n",
       "  <tbody>\n",
       "    <tr>\n",
       "      <th>0</th>\n",
       "      <td>1</td>\n",
       "      <td>Connor McDavid</td>\n",
       "      <td>mcdavco01</td>\n",
       "      <td>20</td>\n",
       "      <td>C</td>\n",
       "      <td>EDM</td>\n",
       "      <td>82</td>\n",
       "      <td>30</td>\n",
       "      <td>70</td>\n",
       "      <td>100</td>\n",
       "      <td>...</td>\n",
       "      <td>29.0</td>\n",
       "      <td>34</td>\n",
       "      <td>348.0</td>\n",
       "      <td>458.0</td>\n",
       "      <td>43.2</td>\n",
       "      <td>1</td>\n",
       "      <td>1604</td>\n",
       "      <td>2017</td>\n",
       "      <td>0.0</td>\n",
       "      <td>270.0</td>\n",
       "    </tr>\n",
       "    <tr>\n",
       "      <th>1</th>\n",
       "      <td>2</td>\n",
       "      <td>Sidney Crosby</td>\n",
       "      <td>crosbsi01</td>\n",
       "      <td>29</td>\n",
       "      <td>C</td>\n",
       "      <td>PIT</td>\n",
       "      <td>75</td>\n",
       "      <td>44</td>\n",
       "      <td>45</td>\n",
       "      <td>89</td>\n",
       "      <td>...</td>\n",
       "      <td>27.0</td>\n",
       "      <td>80</td>\n",
       "      <td>842.0</td>\n",
       "      <td>906.0</td>\n",
       "      <td>48.2</td>\n",
       "      <td>0</td>\n",
       "      <td>1104</td>\n",
       "      <td>2017</td>\n",
       "      <td>0.0</td>\n",
       "      <td>1.0</td>\n",
       "    </tr>\n",
       "    <tr>\n",
       "      <th>2</th>\n",
       "      <td>3</td>\n",
       "      <td>Patrick Kane</td>\n",
       "      <td>kanepa01</td>\n",
       "      <td>28</td>\n",
       "      <td>RW</td>\n",
       "      <td>CHI</td>\n",
       "      <td>82</td>\n",
       "      <td>34</td>\n",
       "      <td>55</td>\n",
       "      <td>89</td>\n",
       "      <td>...</td>\n",
       "      <td>15.0</td>\n",
       "      <td>28</td>\n",
       "      <td>7.0</td>\n",
       "      <td>44.0</td>\n",
       "      <td>13.7</td>\n",
       "      <td>0</td>\n",
       "      <td>206</td>\n",
       "      <td>2017</td>\n",
       "      <td>0.0</td>\n",
       "      <td>0.0</td>\n",
       "    </tr>\n",
       "    <tr>\n",
       "      <th>3</th>\n",
       "      <td>4</td>\n",
       "      <td>Nicklas Backstrom</td>\n",
       "      <td>backsni02</td>\n",
       "      <td>29</td>\n",
       "      <td>C</td>\n",
       "      <td>WSH</td>\n",
       "      <td>82</td>\n",
       "      <td>23</td>\n",
       "      <td>63</td>\n",
       "      <td>86</td>\n",
       "      <td>...</td>\n",
       "      <td>33.0</td>\n",
       "      <td>45</td>\n",
       "      <td>685.0</td>\n",
       "      <td>648.0</td>\n",
       "      <td>51.4</td>\n",
       "      <td>0</td>\n",
       "      <td>60</td>\n",
       "      <td>2017</td>\n",
       "      <td>0.0</td>\n",
       "      <td>0.0</td>\n",
       "    </tr>\n",
       "    <tr>\n",
       "      <th>4</th>\n",
       "      <td>5</td>\n",
       "      <td>Nikita Kucherov</td>\n",
       "      <td>kucheni01</td>\n",
       "      <td>23</td>\n",
       "      <td>RW</td>\n",
       "      <td>TBL</td>\n",
       "      <td>74</td>\n",
       "      <td>40</td>\n",
       "      <td>45</td>\n",
       "      <td>85</td>\n",
       "      <td>...</td>\n",
       "      <td>20.0</td>\n",
       "      <td>30</td>\n",
       "      <td>0.0</td>\n",
       "      <td>0.0</td>\n",
       "      <td>NaN</td>\n",
       "      <td>0</td>\n",
       "      <td>119</td>\n",
       "      <td>2017</td>\n",
       "      <td>0.0</td>\n",
       "      <td>166.0</td>\n",
       "    </tr>\n",
       "  </tbody>\n",
       "</table>\n",
       "<p>5 rows × 34 columns</p>\n",
       "</div>"
      ],
      "text/plain": [
       "   rank             player       nick  age position team  games_played  goals  \\\n",
       "0     1     Connor McDavid  mcdavco01   20        C  EDM            82     30   \n",
       "1     2      Sidney Crosby  crosbsi01   29        C  PIT            75     44   \n",
       "2     3       Patrick Kane   kanepa01   28       RW  CHI            82     34   \n",
       "3     4  Nicklas Backstrom  backsni02   29        C  WSH            82     23   \n",
       "4     5    Nikita Kucherov  kucheni01   23       RW  TBL            74     40   \n",
       "\n",
       "   assists  points  ...  num_blocked_shots  num_hits  faceoff_wins  \\\n",
       "0       70     100  ...               29.0        34         348.0   \n",
       "1       45      89  ...               27.0        80         842.0   \n",
       "2       55      89  ...               15.0        28           7.0   \n",
       "3       63      86  ...               33.0        45         685.0   \n",
       "4       45      85  ...               20.0        30           0.0   \n",
       "\n",
       "   faceoff_losses  faceoff_success_rate  num_HT_wins  num_HT_votes  season  \\\n",
       "0           458.0                  43.2            1          1604    2017   \n",
       "1           906.0                  48.2            0          1104    2017   \n",
       "2            44.0                  13.7            0           206    2017   \n",
       "3           648.0                  51.4            0            60    2017   \n",
       "4             0.0                   NaN            0           119    2017   \n",
       "\n",
       "   traded_next_season  num_HT_votes_next_season  \n",
       "0                 0.0                     270.0  \n",
       "1                 0.0                       1.0  \n",
       "2                 0.0                       0.0  \n",
       "3                 0.0                       0.0  \n",
       "4                 0.0                     166.0  \n",
       "\n",
       "[5 rows x 34 columns]"
      ]
     },
     "execution_count": 2,
     "metadata": {},
     "output_type": "execute_result"
    }
   ],
   "source": [
    "player_df = pd.read_csv('../data/nhl-player-data-explored.csv')\n",
    "player_df.head()"
   ]
  },
  {
   "cell_type": "code",
   "execution_count": 3,
   "metadata": {},
   "outputs": [
    {
     "name": "stdout",
     "output_type": "stream",
     "text": [
      "<class 'pandas.core.frame.DataFrame'>\n",
      "RangeIndex: 12326 entries, 0 to 12325\n",
      "Data columns (total 34 columns):\n",
      " #   Column                    Non-Null Count  Dtype  \n",
      "---  ------                    --------------  -----  \n",
      " 0   rank                      12326 non-null  int64  \n",
      " 1   player                    12326 non-null  object \n",
      " 2   nick                      12326 non-null  object \n",
      " 3   age                       12326 non-null  int64  \n",
      " 4   position                  12326 non-null  object \n",
      " 5   team                      12326 non-null  object \n",
      " 6   games_played              12326 non-null  int64  \n",
      " 7   goals                     12326 non-null  int64  \n",
      " 8   assists                   12326 non-null  int64  \n",
      " 9   points                    12326 non-null  int64  \n",
      " 10  plus_minus                12326 non-null  int64  \n",
      " 11  penalty_minutes           12326 non-null  int64  \n",
      " 12  team_points_ratio         12326 non-null  float64\n",
      " 13  num_goals_5on5            12326 non-null  int64  \n",
      " 14  num_goals_powerplay       12326 non-null  int64  \n",
      " 15  num_goals_shorthanded     12326 non-null  int64  \n",
      " 16  num_goals_gamewinning     12326 non-null  int64  \n",
      " 17  num_assists_5on5          12326 non-null  int64  \n",
      " 18  num_assists_powerplay     12326 non-null  int64  \n",
      " 19  num_assists_shorthanded   12326 non-null  int64  \n",
      " 20  shoots_on_goal            12326 non-null  int64  \n",
      " 21  shoot_success_rate        11930 non-null  float64\n",
      " 22  time_on_ice               12326 non-null  int64  \n",
      " 23  average_time_on_ice       12326 non-null  float64\n",
      " 24  num_blocked_shots         12326 non-null  float64\n",
      " 25  num_hits                  12326 non-null  int64  \n",
      " 26  faceoff_wins              12326 non-null  float64\n",
      " 27  faceoff_losses            12326 non-null  float64\n",
      " 28  faceoff_success_rate      6152 non-null   float64\n",
      " 29  num_HT_wins               12326 non-null  int64  \n",
      " 30  num_HT_votes              12326 non-null  int64  \n",
      " 31  season                    12326 non-null  int64  \n",
      " 32  traded_next_season        7795 non-null   float64\n",
      " 33  num_HT_votes_next_season  8574 non-null   float64\n",
      "dtypes: float64(9), int64(21), object(4)\n",
      "memory usage: 3.2+ MB\n"
     ]
    }
   ],
   "source": [
    "player_df.info()"
   ]
  },
  {
   "cell_type": "code",
   "execution_count": 4,
   "metadata": {},
   "outputs": [
    {
     "data": {
      "text/html": [
       "<div>\n",
       "<style scoped>\n",
       "    .dataframe tbody tr th:only-of-type {\n",
       "        vertical-align: middle;\n",
       "    }\n",
       "\n",
       "    .dataframe tbody tr th {\n",
       "        vertical-align: top;\n",
       "    }\n",
       "\n",
       "    .dataframe thead th {\n",
       "        text-align: right;\n",
       "    }\n",
       "</style>\n",
       "<table border=\"1\" class=\"dataframe\">\n",
       "  <thead>\n",
       "    <tr style=\"text-align: right;\">\n",
       "      <th></th>\n",
       "      <th>rank</th>\n",
       "      <th>age</th>\n",
       "      <th>games_played</th>\n",
       "      <th>goals</th>\n",
       "      <th>assists</th>\n",
       "      <th>points</th>\n",
       "      <th>plus_minus</th>\n",
       "      <th>penalty_minutes</th>\n",
       "      <th>team_points_ratio</th>\n",
       "      <th>num_goals_5on5</th>\n",
       "      <th>...</th>\n",
       "      <th>num_blocked_shots</th>\n",
       "      <th>num_hits</th>\n",
       "      <th>faceoff_wins</th>\n",
       "      <th>faceoff_losses</th>\n",
       "      <th>faceoff_success_rate</th>\n",
       "      <th>num_HT_wins</th>\n",
       "      <th>num_HT_votes</th>\n",
       "      <th>season</th>\n",
       "      <th>traded_next_season</th>\n",
       "      <th>num_HT_votes_next_season</th>\n",
       "    </tr>\n",
       "  </thead>\n",
       "  <tbody>\n",
       "    <tr>\n",
       "      <th>count</th>\n",
       "      <td>12326.000000</td>\n",
       "      <td>12326.000000</td>\n",
       "      <td>12326.000000</td>\n",
       "      <td>12326.000000</td>\n",
       "      <td>12326.000000</td>\n",
       "      <td>12326.000000</td>\n",
       "      <td>12326.000000</td>\n",
       "      <td>12326.000000</td>\n",
       "      <td>12326.000000</td>\n",
       "      <td>12326.000000</td>\n",
       "      <td>...</td>\n",
       "      <td>12326.000000</td>\n",
       "      <td>12326.000000</td>\n",
       "      <td>12326.000000</td>\n",
       "      <td>12326.000000</td>\n",
       "      <td>6152.000000</td>\n",
       "      <td>12326.000000</td>\n",
       "      <td>12326.000000</td>\n",
       "      <td>12326.000000</td>\n",
       "      <td>7795.000000</td>\n",
       "      <td>8574.000000</td>\n",
       "    </tr>\n",
       "    <tr>\n",
       "      <th>mean</th>\n",
       "      <td>629.903781</td>\n",
       "      <td>26.642869</td>\n",
       "      <td>48.910352</td>\n",
       "      <td>7.485478</td>\n",
       "      <td>12.789794</td>\n",
       "      <td>20.275272</td>\n",
       "      <td>-0.351858</td>\n",
       "      <td>31.976148</td>\n",
       "      <td>2.480472</td>\n",
       "      <td>5.388042</td>\n",
       "      <td>...</td>\n",
       "      <td>29.446049</td>\n",
       "      <td>47.277949</td>\n",
       "      <td>62.312591</td>\n",
       "      <td>62.311618</td>\n",
       "      <td>42.256518</td>\n",
       "      <td>0.001136</td>\n",
       "      <td>3.317621</td>\n",
       "      <td>2011.437612</td>\n",
       "      <td>0.248621</td>\n",
       "      <td>4.293445</td>\n",
       "    </tr>\n",
       "    <tr>\n",
       "      <th>std</th>\n",
       "      <td>553.907982</td>\n",
       "      <td>4.576861</td>\n",
       "      <td>28.662179</td>\n",
       "      <td>8.847140</td>\n",
       "      <td>13.129551</td>\n",
       "      <td>20.778556</td>\n",
       "      <td>9.415412</td>\n",
       "      <td>32.314859</td>\n",
       "      <td>2.813359</td>\n",
       "      <td>6.127377</td>\n",
       "      <td>...</td>\n",
       "      <td>38.987808</td>\n",
       "      <td>54.328338</td>\n",
       "      <td>160.318023</td>\n",
       "      <td>152.305063</td>\n",
       "      <td>21.427258</td>\n",
       "      <td>0.033684</td>\n",
       "      <td>53.899779</td>\n",
       "      <td>4.170480</td>\n",
       "      <td>0.432241</td>\n",
       "      <td>61.592151</td>\n",
       "    </tr>\n",
       "    <tr>\n",
       "      <th>min</th>\n",
       "      <td>1.000000</td>\n",
       "      <td>18.000000</td>\n",
       "      <td>1.000000</td>\n",
       "      <td>0.000000</td>\n",
       "      <td>0.000000</td>\n",
       "      <td>0.000000</td>\n",
       "      <td>-46.000000</td>\n",
       "      <td>0.000000</td>\n",
       "      <td>-1.900000</td>\n",
       "      <td>0.000000</td>\n",
       "      <td>...</td>\n",
       "      <td>0.000000</td>\n",
       "      <td>0.000000</td>\n",
       "      <td>0.000000</td>\n",
       "      <td>0.000000</td>\n",
       "      <td>0.000000</td>\n",
       "      <td>0.000000</td>\n",
       "      <td>0.000000</td>\n",
       "      <td>2004.000000</td>\n",
       "      <td>0.000000</td>\n",
       "      <td>0.000000</td>\n",
       "    </tr>\n",
       "    <tr>\n",
       "      <th>25%</th>\n",
       "      <td>257.000000</td>\n",
       "      <td>23.000000</td>\n",
       "      <td>21.000000</td>\n",
       "      <td>1.000000</td>\n",
       "      <td>2.000000</td>\n",
       "      <td>3.000000</td>\n",
       "      <td>-5.000000</td>\n",
       "      <td>8.000000</td>\n",
       "      <td>0.200000</td>\n",
       "      <td>1.000000</td>\n",
       "      <td>...</td>\n",
       "      <td>0.000000</td>\n",
       "      <td>1.000000</td>\n",
       "      <td>0.000000</td>\n",
       "      <td>0.000000</td>\n",
       "      <td>33.300000</td>\n",
       "      <td>0.000000</td>\n",
       "      <td>0.000000</td>\n",
       "      <td>2008.000000</td>\n",
       "      <td>0.000000</td>\n",
       "      <td>0.000000</td>\n",
       "    </tr>\n",
       "    <tr>\n",
       "      <th>50%</th>\n",
       "      <td>514.000000</td>\n",
       "      <td>26.000000</td>\n",
       "      <td>57.000000</td>\n",
       "      <td>4.000000</td>\n",
       "      <td>9.000000</td>\n",
       "      <td>14.000000</td>\n",
       "      <td>-1.000000</td>\n",
       "      <td>24.000000</td>\n",
       "      <td>1.600000</td>\n",
       "      <td>3.000000</td>\n",
       "      <td>...</td>\n",
       "      <td>15.000000</td>\n",
       "      <td>30.000000</td>\n",
       "      <td>0.000000</td>\n",
       "      <td>0.000000</td>\n",
       "      <td>45.900000</td>\n",
       "      <td>0.000000</td>\n",
       "      <td>0.000000</td>\n",
       "      <td>2012.000000</td>\n",
       "      <td>0.000000</td>\n",
       "      <td>0.000000</td>\n",
       "    </tr>\n",
       "    <tr>\n",
       "      <th>75%</th>\n",
       "      <td>771.000000</td>\n",
       "      <td>30.000000</td>\n",
       "      <td>76.000000</td>\n",
       "      <td>11.000000</td>\n",
       "      <td>20.000000</td>\n",
       "      <td>32.000000</td>\n",
       "      <td>4.000000</td>\n",
       "      <td>45.000000</td>\n",
       "      <td>4.100000</td>\n",
       "      <td>8.000000</td>\n",
       "      <td>...</td>\n",
       "      <td>41.000000</td>\n",
       "      <td>75.000000</td>\n",
       "      <td>14.000000</td>\n",
       "      <td>19.000000</td>\n",
       "      <td>51.700000</td>\n",
       "      <td>0.000000</td>\n",
       "      <td>0.000000</td>\n",
       "      <td>2015.000000</td>\n",
       "      <td>0.000000</td>\n",
       "      <td>0.000000</td>\n",
       "    </tr>\n",
       "    <tr>\n",
       "      <th>max</th>\n",
       "      <td>2644.000000</td>\n",
       "      <td>48.000000</td>\n",
       "      <td>84.000000</td>\n",
       "      <td>65.000000</td>\n",
       "      <td>96.000000</td>\n",
       "      <td>125.000000</td>\n",
       "      <td>50.000000</td>\n",
       "      <td>324.000000</td>\n",
       "      <td>17.200000</td>\n",
       "      <td>48.000000</td>\n",
       "      <td>...</td>\n",
       "      <td>283.000000</td>\n",
       "      <td>382.000000</td>\n",
       "      <td>1273.000000</td>\n",
       "      <td>941.000000</td>\n",
       "      <td>100.000000</td>\n",
       "      <td>1.000000</td>\n",
       "      <td>1604.000000</td>\n",
       "      <td>2018.000000</td>\n",
       "      <td>1.000000</td>\n",
       "      <td>1604.000000</td>\n",
       "    </tr>\n",
       "  </tbody>\n",
       "</table>\n",
       "<p>8 rows × 30 columns</p>\n",
       "</div>"
      ],
      "text/plain": [
       "               rank           age  games_played         goals       assists  \\\n",
       "count  12326.000000  12326.000000  12326.000000  12326.000000  12326.000000   \n",
       "mean     629.903781     26.642869     48.910352      7.485478     12.789794   \n",
       "std      553.907982      4.576861     28.662179      8.847140     13.129551   \n",
       "min        1.000000     18.000000      1.000000      0.000000      0.000000   \n",
       "25%      257.000000     23.000000     21.000000      1.000000      2.000000   \n",
       "50%      514.000000     26.000000     57.000000      4.000000      9.000000   \n",
       "75%      771.000000     30.000000     76.000000     11.000000     20.000000   \n",
       "max     2644.000000     48.000000     84.000000     65.000000     96.000000   \n",
       "\n",
       "             points    plus_minus  penalty_minutes  team_points_ratio  \\\n",
       "count  12326.000000  12326.000000     12326.000000       12326.000000   \n",
       "mean      20.275272     -0.351858        31.976148           2.480472   \n",
       "std       20.778556      9.415412        32.314859           2.813359   \n",
       "min        0.000000    -46.000000         0.000000          -1.900000   \n",
       "25%        3.000000     -5.000000         8.000000           0.200000   \n",
       "50%       14.000000     -1.000000        24.000000           1.600000   \n",
       "75%       32.000000      4.000000        45.000000           4.100000   \n",
       "max      125.000000     50.000000       324.000000          17.200000   \n",
       "\n",
       "       num_goals_5on5  ...  num_blocked_shots      num_hits  faceoff_wins  \\\n",
       "count    12326.000000  ...       12326.000000  12326.000000  12326.000000   \n",
       "mean         5.388042  ...          29.446049     47.277949     62.312591   \n",
       "std          6.127377  ...          38.987808     54.328338    160.318023   \n",
       "min          0.000000  ...           0.000000      0.000000      0.000000   \n",
       "25%          1.000000  ...           0.000000      1.000000      0.000000   \n",
       "50%          3.000000  ...          15.000000     30.000000      0.000000   \n",
       "75%          8.000000  ...          41.000000     75.000000     14.000000   \n",
       "max         48.000000  ...         283.000000    382.000000   1273.000000   \n",
       "\n",
       "       faceoff_losses  faceoff_success_rate   num_HT_wins  num_HT_votes  \\\n",
       "count    12326.000000           6152.000000  12326.000000  12326.000000   \n",
       "mean        62.311618             42.256518      0.001136      3.317621   \n",
       "std        152.305063             21.427258      0.033684     53.899779   \n",
       "min          0.000000              0.000000      0.000000      0.000000   \n",
       "25%          0.000000             33.300000      0.000000      0.000000   \n",
       "50%          0.000000             45.900000      0.000000      0.000000   \n",
       "75%         19.000000             51.700000      0.000000      0.000000   \n",
       "max        941.000000            100.000000      1.000000   1604.000000   \n",
       "\n",
       "             season  traded_next_season  num_HT_votes_next_season  \n",
       "count  12326.000000         7795.000000               8574.000000  \n",
       "mean    2011.437612            0.248621                  4.293445  \n",
       "std        4.170480            0.432241                 61.592151  \n",
       "min     2004.000000            0.000000                  0.000000  \n",
       "25%     2008.000000            0.000000                  0.000000  \n",
       "50%     2012.000000            0.000000                  0.000000  \n",
       "75%     2015.000000            0.000000                  0.000000  \n",
       "max     2018.000000            1.000000               1604.000000  \n",
       "\n",
       "[8 rows x 30 columns]"
      ]
     },
     "execution_count": 4,
     "metadata": {},
     "output_type": "execute_result"
    }
   ],
   "source": [
    "player_df.describe()"
   ]
  },
  {
   "cell_type": "markdown",
   "metadata": {},
   "source": [
    "# 1. Perform transformations we decided we need to do during data analysis"
   ]
  },
  {
   "cell_type": "markdown",
   "metadata": {},
   "source": [
    "One-hot encode the position of a player that he played in for the given record."
   ]
  },
  {
   "cell_type": "code",
   "execution_count": 5,
   "metadata": {},
   "outputs": [],
   "source": [
    "player_df.loc[player_df.position == 'W', 'position'] = 'LW/RW'\n",
    "\n",
    "player_df['position_C'] = player_df.position.str.contains('C')\n",
    "player_df['position_LW'] = player_df.position.str.contains('LW')\n",
    "player_df['position_RW'] = player_df.position.str.contains('RW')\n",
    "player_df['position_F'] = player_df['position_C'] | player_df['position_LW'] | player_df['position_RW']\n",
    "player_df['position_D'] = player_df.position.str.contains('D')"
   ]
  },
  {
   "cell_type": "markdown",
   "metadata": {},
   "source": [
    "# 2. Num goals next season"
   ]
  },
  {
   "cell_type": "markdown",
   "metadata": {},
   "source": [
    "First we need to create this column. Let's do it then."
   ]
  },
  {
   "cell_type": "code",
   "execution_count": 6,
   "metadata": {},
   "outputs": [
    {
     "data": {
      "application/vnd.jupyter.widget-view+json": {
       "model_id": "038ac5b005b244fb9cec40cb2ac3cee0",
       "version_major": 2,
       "version_minor": 0
      },
      "text/plain": [
       "Creating the goals next season feature:   0%|          | 0/12326 [00:00<?, ?it/s]"
      ]
     },
     "metadata": {},
     "output_type": "display_data"
    }
   ],
   "source": [
    "player_df['goals_next_season'] = np.nan\n",
    "for row_idx in tqdm(range(len(player_df)), 'Creating the goals next season feature'):\n",
    "    player = player_df.iloc[row_idx]\n",
    "    player_records = player_df[player_df.nick == player.nick]\n",
    "    next_season = player_records[player_records.season == player.season + 1]\n",
    "    if len(next_season) == 1:\n",
    "        goals = next_season.iloc[0].goals\n",
    "        player_df.loc[row_idx, 'goals_next_season'] = goals"
   ]
  },
  {
   "cell_type": "markdown",
   "metadata": {},
   "source": [
    "Now let's fill in NaN data and drop columns that:\n",
    "- the model shold not have information about\n",
    "- we don't want the model to use"
   ]
  },
  {
   "cell_type": "code",
   "execution_count": 7,
   "metadata": {},
   "outputs": [],
   "source": [
    "TO_DROP = ['player', 'nick', 'position', 'team', 'num_HT_wins', 'num_HT_votes_next_season', 'traded_next_season']\n",
    "data = player_df.copy().drop(columns=TO_DROP)\n",
    "data = data[~np.isnan(data.goals_next_season)]\n",
    "data.loc[np.isnan(data.shoot_success_rate), 'shoot_success_rate'] = 0\n",
    "data.loc[np.isnan(data.faceoff_success_rate), 'faceoff_success_rate'] = 0\n",
    "\n",
    "X = data.copy().drop(columns=['goals_next_season'])\n",
    "y = data[['goals_next_season']]"
   ]
  },
  {
   "cell_type": "markdown",
   "metadata": {},
   "source": [
    "Perform hyperparameter search using 5-Fold CV."
   ]
  },
  {
   "cell_type": "code",
   "execution_count": 8,
   "metadata": {},
   "outputs": [
    {
     "data": {
      "application/vnd.jupyter.widget-view+json": {
       "model_id": "ac686721d31e482da3e66ebc83bd0b3a",
       "version_major": 2,
       "version_minor": 0
      },
      "text/plain": [
       "Checking all Lasso models:   0%|          | 0/25 [00:00<?, ?it/s]"
      ]
     },
     "metadata": {},
     "output_type": "display_data"
    }
   ],
   "source": [
    "results = {}\n",
    "folder = KFold(n_splits=5, shuffle=True, random_state=42)\n",
    "\n",
    "best_k = None\n",
    "best_v = None\n",
    "\n",
    "space = np.linspace(0.05, 0.3, 25) + 0.01\n",
    "for alpha in tqdm(space, desc='Checking all Lasso models'):\n",
    "    mae_train = []\n",
    "    mae_test = []\n",
    "    for train, test in folder.split(X, y):\n",
    "        model = Lasso(alpha=alpha, random_state=42, positive=True, fit_intercept=True, max_iter=10_000, selection='random')\n",
    "        model.fit(X.iloc[train], y.iloc[train])\n",
    "\n",
    "        y_hat_train = model.predict(X.iloc[train])\n",
    "        y_hat_test = model.predict(X.iloc[test])\n",
    "\n",
    "        mae_train.append(mean_absolute_error(y.iloc[train], y_hat_train))\n",
    "        mae_test.append(mean_absolute_error(y.iloc[test], y_hat_test))\n",
    "\n",
    "    if best_k is None or best_v > np.mean(mae_test):\n",
    "        best_k = alpha\n",
    "        best_v = np.mean(mae_test)\n",
    "    results[alpha] = {\n",
    "        'model': model,\n",
    "        'mae_train': np.mean(mae_train),\n",
    "        'mae_test': np.mean(mae_test),\n",
    "    }"
   ]
  },
  {
   "cell_type": "code",
   "execution_count": 9,
   "metadata": {},
   "outputs": [
    {
     "data": {
      "text/plain": [
       "(0.13291666666666666, 4.167064047451775)"
      ]
     },
     "execution_count": 9,
     "metadata": {},
     "output_type": "execute_result"
    }
   ],
   "source": [
    "best_k, best_v"
   ]
  },
  {
   "cell_type": "markdown",
   "metadata": {},
   "source": [
    "Plot what MAE looks like as with respect to the $\\alpha$ parameter."
   ]
  },
  {
   "cell_type": "code",
   "execution_count": 10,
   "metadata": {},
   "outputs": [
    {
     "data": {
      "image/png": "[encoded data removed]",
      "text/plain": [
       "<Figure size 640x480 with 1 Axes>"
      ]
     },
     "metadata": {},
     "output_type": "display_data"
    }
   ],
   "source": [
    "plt.plot(space, [results[k]['mae_train'] for k in space], '--o', label='MAE/train', color='blue')\n",
    "plt.plot(space, [results[k]['mae_test'] for k in space], '--o', label='MAE/test', color='orange')\n",
    "plt.grid()\n",
    "plt.xlabel('Alpha')\n",
    "plt.ylabel('MAE')\n",
    "plt.suptitle(r'MAE with respect to the $\\alpha$ parameter of Lasso')\n",
    "plt.legend();"
   ]
  },
  {
   "cell_type": "markdown",
   "metadata": {},
   "source": [
    "Obtain the best model again, now on all of the data."
   ]
  },
  {
   "cell_type": "code",
   "execution_count": 11,
   "metadata": {},
   "outputs": [],
   "source": [
    "model = Lasso(alpha=best_k, fit_intercept=False, positive=True, max_iter=10_000)\n",
    "model.fit(X, y)\n",
    "mae_regular = mean_absolute_error(y, model.predict(X))"
   ]
  },
  {
   "cell_type": "markdown",
   "metadata": {},
   "source": [
    "Now let's see the MAE if we continuously try to set more and more coefficients to 0."
   ]
  },
  {
   "cell_type": "code",
   "execution_count": 12,
   "metadata": {},
   "outputs": [
    {
     "data": {
      "image/png": "[encoded data removed]",
      "text/plain": [
       "<Figure size 640x480 with 1 Axes>"
      ]
     },
     "metadata": {},
     "output_type": "display_data"
    }
   ],
   "source": [
    "steps = sorted(np.unique(np.abs(model.coef_)), reverse=False)\n",
    "\n",
    "fig, ax = plt.subplots()\n",
    "x_data = steps\n",
    "y_data = []\n",
    "for step in steps:\n",
    "    coef_reduced = model.coef_.copy()\n",
    "    coef_reduced[np.abs(coef_reduced) <= step] = 0\n",
    "    y_hat = (X @ coef_reduced.T) + model.intercept_\n",
    "    y_hat[y_hat < 0] = 0\n",
    "    mae_reduced = mean_absolute_error(y, y_hat)\n",
    "    y_data.append(mae_reduced)\n",
    "x_range = np.arange(len(y_data)) + 1\n",
    "x_range[-1] = model.coef_.shape[0] + 1\n",
    "ax.plot(x_range, y_data[::-1], '--o')\n",
    "ax.set_xlabel('Number of parameters used')\n",
    "ax.set_ylabel('MAE')\n",
    "ax.set_title('MAE with respect to the number of parameters used')\n",
    "ax.grid()"
   ]
  },
  {
   "cell_type": "markdown",
   "metadata": {},
   "source": [
    "We see that at 10 parameters used, we get a very good MAE already. Let's therefore have a look at what parameters are they."
   ]
  },
  {
   "cell_type": "code",
   "execution_count": 13,
   "metadata": {},
   "outputs": [
    {
     "data": {
      "image/png": "[encoded data removed]",
      "text/plain": [
       "<Figure size 640x480 with 1 Axes>"
      ]
     },
     "metadata": {},
     "output_type": "display_data"
    }
   ],
   "source": [
    "vals = sorted(zip(results[best_k]['model'].coef_, X.columns), key=lambda x: -np.abs(x[0]))[:9]\n",
    "fig, ax = plt.subplots()\n",
    "ax.scatter([x[0] for x in vals], [x[1] for x in vals])\n",
    "ax.axvline(0, 0, 10, color='red', alpha=0.5)\n",
    "ax.set_xlabel('Lasso coefficient')\n",
    "ax.set_title('Top 9 Lasso coefficients')\n",
    "ax.grid()"
   ]
  },
  {
   "cell_type": "code",
   "execution_count": 14,
   "metadata": {},
   "outputs": [
    {
     "data": {
      "text/plain": [
       "Text(0.5, 1.0, 'Mean goals per player per game with respect to the season')"
      ]
     },
     "execution_count": 14,
     "metadata": {},
     "output_type": "execute_result"
    },
    {
     "data": {
      "image/png": "[encoded data removed]",
      "text/plain": [
       "<Figure size 640x480 with 1 Axes>"
      ]
     },
     "metadata": {},
     "output_type": "display_data"
    }
   ],
   "source": [
    "data_1 = player_df.groupby(['season', 'nick']).agg({'goals': 'sum', 'games_played': 'sum'}).groupby('season').mean()\n",
    "\n",
    "fig, ax = plt.subplots()\n",
    "ax.plot(data_1.goals / data_1.games_played, '--o')\n",
    "ax.grid()\n",
    "ax.set_xlabel('Season')\n",
    "ax.set_ylabel('Mean goals per player per game')\n",
    "ax.set_title('Mean goals per player per game with respect to the season')"
   ]
  },
  {
   "cell_type": "markdown",
   "metadata": {},
   "source": [
    "# 3. Probability of a player being traded in the next season"
   ]
  },
  {
   "cell_type": "markdown",
   "metadata": {},
   "source": [
    "Let's define the data we will use for this again."
   ]
  },
  {
   "cell_type": "code",
   "execution_count": 15,
   "metadata": {},
   "outputs": [
    {
     "data": {
      "text/plain": [
       "False"
      ]
     },
     "execution_count": 15,
     "metadata": {},
     "output_type": "execute_result"
    }
   ],
   "source": [
    "TO_DROP = ['player', 'nick', 'position', 'team', 'num_HT_wins', 'num_HT_votes_next_season', 'goals_next_season', 'rank']\n",
    "data = player_df.copy().drop(columns=TO_DROP)\n",
    "data = data[~np.isnan(data.traded_next_season)]\n",
    "data.loc[np.isnan(data.shoot_success_rate), 'shoot_success_rate'] = 0\n",
    "data.loc[np.isnan(data.faceoff_success_rate), 'faceoff_success_rate'] = 0\n",
    "\n",
    "np.any(np.isnan(data))"
   ]
  },
  {
   "cell_type": "markdown",
   "metadata": {},
   "source": [
    "Perfect, we have no NaNs now, so we can start modeling."
   ]
  },
  {
   "cell_type": "code",
   "execution_count": 16,
   "metadata": {},
   "outputs": [],
   "source": [
    "X = data.drop(columns=['traded_next_season'])\n",
    "y = data[['traded_next_season']]"
   ]
  },
  {
   "cell_type": "code",
   "execution_count": 17,
   "metadata": {},
   "outputs": [
    {
     "data": {
      "application/vnd.jupyter.widget-view+json": {
       "model_id": "56b1c03e6c3e432bb8dc009d73794fe2",
       "version_major": 2,
       "version_minor": 0
      },
      "text/plain": [
       "Getting all models:   0%|          | 0/10 [00:00<?, ?it/s]"
      ]
     },
     "metadata": {},
     "output_type": "display_data"
    }
   ],
   "source": [
    "param_grid = ParameterGrid({\n",
    "    'max_depth': np.arange(1, 6),\n",
    "    'criterion': ['gini', 'entropy'],\n",
    "    'random_state': [42],\n",
    "    'class_weight': ['balanced']\n",
    "})\n",
    "\n",
    "folder = StratifiedKFold(n_splits=5, shuffle=True, random_state=42)\n",
    "pool = Pool(processes=12)\n",
    "\n",
    "def get_res(params):\n",
    "    model = DecisionTreeClassifier(**params)\n",
    "    f1_train = []\n",
    "    f1_test = []\n",
    "    cm_test = []\n",
    "    for train, test in folder.split(X, y):\n",
    "        model = DecisionTreeClassifier(**params)\n",
    "        X_train, X_test, y_train, y_test = X.iloc[train], X.iloc[test], y.iloc[train], y.iloc[test]\n",
    "        model.fit(X_train, y_train.traded_next_season)\n",
    "        f1_train.append(f1_score(y_train, model.predict(X_train)))\n",
    "        f1_test.append(f1_score(y_test, model.predict(X_test)))\n",
    "        cm_test.append(confusion_matrix(y_test, model.predict(X_test)))\n",
    "    return {\n",
    "        'model': model,\n",
    "        'params': params,\n",
    "        'f1/train': np.mean(f1_train),\n",
    "        'f1/test': np.mean(f1_test),\n",
    "        'cm/test': np.mean(cm_test)\n",
    "    }\n",
    "\n",
    "results = list(tqdm(pool.imap(get_res, param_grid, chunksize=4), desc='Getting all models', total=len(param_grid)))"
   ]
  },
  {
   "cell_type": "code",
   "execution_count": 18,
   "metadata": {},
   "outputs": [
    {
     "data": {
      "text/plain": [
       "{'class_weight': 'balanced',\n",
       " 'criterion': 'gini',\n",
       " 'max_depth': 1,\n",
       " 'random_state': 42}"
      ]
     },
     "execution_count": 18,
     "metadata": {},
     "output_type": "execute_result"
    }
   ],
   "source": [
    "results[0]['params']"
   ]
  },
  {
   "cell_type": "code",
   "execution_count": 19,
   "metadata": {},
   "outputs": [
    {
     "data": {
      "text/plain": [
       "<matplotlib.legend.Legend at 0x7fcda21bd850>"
      ]
     },
     "execution_count": 19,
     "metadata": {},
     "output_type": "execute_result"
    },
    {
     "data": {
      "image/png": "[encoded data removed]",
      "text/plain": [
       "<Figure size 1500x500 with 1 Axes>"
      ]
     },
     "metadata": {},
     "output_type": "display_data"
    }
   ],
   "source": [
    "plt.figure(figsize=(15, 5))\n",
    "\n",
    "for dataset in ['train', 'test']:\n",
    "    for crit in ['gini', 'entropy']:\n",
    "        plt.scatter([\n",
    "            x['params']['max_depth'] for x in results\n",
    "            if x['params']['criterion'] == crit\n",
    "        ], [\n",
    "            x[f'f1/{dataset}'] for x in results \n",
    "            if x['params']['criterion'] == crit\n",
    "        ], label=f'f1/{dataset}/{crit}',\n",
    "        color='blue' if dataset == 'train' else 'red',\n",
    "        marker='s' if crit == 'gini' else 'o')\n",
    "plt.ylabel('F1 score')\n",
    "plt.xlabel('Max depth')\n",
    "plt.grid()\n",
    "plt.xticks(np.arange(1, 6))\n",
    "plt.legend()"
   ]
  },
  {
   "cell_type": "code",
   "execution_count": 20,
   "metadata": {},
   "outputs": [
    {
     "data": {
      "text/html": [
       "<div>\n",
       "<style scoped>\n",
       "    .dataframe tbody tr th:only-of-type {\n",
       "        vertical-align: middle;\n",
       "    }\n",
       "\n",
       "    .dataframe tbody tr th {\n",
       "        vertical-align: top;\n",
       "    }\n",
       "\n",
       "    .dataframe thead th {\n",
       "        text-align: right;\n",
       "    }\n",
       "</style>\n",
       "<table border=\"1\" class=\"dataframe\">\n",
       "  <thead>\n",
       "    <tr style=\"text-align: right;\">\n",
       "      <th></th>\n",
       "      <th>traded_next_season</th>\n",
       "    </tr>\n",
       "  </thead>\n",
       "  <tbody>\n",
       "    <tr>\n",
       "      <th>18</th>\n",
       "      <td>0.0</td>\n",
       "    </tr>\n",
       "    <tr>\n",
       "      <th>33</th>\n",
       "      <td>0.0</td>\n",
       "    </tr>\n",
       "    <tr>\n",
       "      <th>34</th>\n",
       "      <td>0.0</td>\n",
       "    </tr>\n",
       "    <tr>\n",
       "      <th>36</th>\n",
       "      <td>0.0</td>\n",
       "    </tr>\n",
       "    <tr>\n",
       "      <th>47</th>\n",
       "      <td>0.0</td>\n",
       "    </tr>\n",
       "    <tr>\n",
       "      <th>...</th>\n",
       "      <td>...</td>\n",
       "    </tr>\n",
       "    <tr>\n",
       "      <th>12300</th>\n",
       "      <td>0.0</td>\n",
       "    </tr>\n",
       "    <tr>\n",
       "      <th>12304</th>\n",
       "      <td>1.0</td>\n",
       "    </tr>\n",
       "    <tr>\n",
       "      <th>12307</th>\n",
       "      <td>1.0</td>\n",
       "    </tr>\n",
       "    <tr>\n",
       "      <th>12309</th>\n",
       "      <td>1.0</td>\n",
       "    </tr>\n",
       "    <tr>\n",
       "      <th>12317</th>\n",
       "      <td>1.0</td>\n",
       "    </tr>\n",
       "  </tbody>\n",
       "</table>\n",
       "<p>3411 rows × 1 columns</p>\n",
       "</div>"
      ],
      "text/plain": [
       "       traded_next_season\n",
       "18                    0.0\n",
       "33                    0.0\n",
       "34                    0.0\n",
       "36                    0.0\n",
       "47                    0.0\n",
       "...                   ...\n",
       "12300                 0.0\n",
       "12304                 1.0\n",
       "12307                 1.0\n",
       "12309                 1.0\n",
       "12317                 1.0\n",
       "\n",
       "[3411 rows x 1 columns]"
      ]
     },
     "execution_count": 20,
     "metadata": {},
     "output_type": "execute_result"
    }
   ],
   "source": [
    "f = (X.age > 24.5) & (X.average_time_on_ice <= 17.94)\n",
    "y[f]"
   ]
  },
  {
   "cell_type": "code",
   "execution_count": 21,
   "metadata": {},
   "outputs": [
    {
     "data": {
      "text/html": [
       "<div>\n",
       "<style scoped>\n",
       "    .dataframe tbody tr th:only-of-type {\n",
       "        vertical-align: middle;\n",
       "    }\n",
       "\n",
       "    .dataframe tbody tr th {\n",
       "        vertical-align: top;\n",
       "    }\n",
       "\n",
       "    .dataframe thead th {\n",
       "        text-align: right;\n",
       "    }\n",
       "</style>\n",
       "<table border=\"1\" class=\"dataframe\">\n",
       "  <thead>\n",
       "    <tr style=\"text-align: right;\">\n",
       "      <th></th>\n",
       "      <th>traded_next_season</th>\n",
       "    </tr>\n",
       "  </thead>\n",
       "  <tbody>\n",
       "    <tr>\n",
       "      <th>count</th>\n",
       "      <td>3411.000000</td>\n",
       "    </tr>\n",
       "    <tr>\n",
       "      <th>mean</th>\n",
       "      <td>0.379654</td>\n",
       "    </tr>\n",
       "    <tr>\n",
       "      <th>std</th>\n",
       "      <td>0.485372</td>\n",
       "    </tr>\n",
       "    <tr>\n",
       "      <th>min</th>\n",
       "      <td>0.000000</td>\n",
       "    </tr>\n",
       "    <tr>\n",
       "      <th>25%</th>\n",
       "      <td>0.000000</td>\n",
       "    </tr>\n",
       "    <tr>\n",
       "      <th>50%</th>\n",
       "      <td>0.000000</td>\n",
       "    </tr>\n",
       "    <tr>\n",
       "      <th>75%</th>\n",
       "      <td>1.000000</td>\n",
       "    </tr>\n",
       "    <tr>\n",
       "      <th>max</th>\n",
       "      <td>1.000000</td>\n",
       "    </tr>\n",
       "  </tbody>\n",
       "</table>\n",
       "</div>"
      ],
      "text/plain": [
       "       traded_next_season\n",
       "count         3411.000000\n",
       "mean             0.379654\n",
       "std              0.485372\n",
       "min              0.000000\n",
       "25%              0.000000\n",
       "50%              0.000000\n",
       "75%              1.000000\n",
       "max              1.000000"
      ]
     },
     "execution_count": 21,
     "metadata": {},
     "output_type": "execute_result"
    }
   ],
   "source": [
    "y[f].describe()"
   ]
  },
  {
   "cell_type": "code",
   "execution_count": 22,
   "metadata": {},
   "outputs": [
    {
     "data": {
      "text/plain": [
       "array([[0.6387229 , 0.3612771 ],\n",
       "       [0.33178535, 0.66821465]])"
      ]
     },
     "metadata": {},
     "output_type": "display_data"
    },
    {
     "ename": "TypeError",
     "evalue": "missing a required argument: 'y_pred'",
     "output_type": "error",
     "traceback": [
      "\u001b[0;31m---------------------------------------------------------------------------\u001b[0m",
      "\u001b[0;31mTypeError\u001b[0m                                 Traceback (most recent call last)",
      "Cell \u001b[0;32mIn[22], line 10\u001b[0m\n\u001b[1;32m      5\u001b[0m \u001b[38;5;66;03m# model.tree_.value[..., 0] *= (5857 / 3897.5)\u001b[39;00m\n\u001b[1;32m      6\u001b[0m \u001b[38;5;66;03m# model.tree_.value[..., 1] *= (1938 / 3897.5)\u001b[39;00m\n\u001b[1;32m      7\u001b[0m \u001b[38;5;66;03m# model.class_weight = None\u001b[39;00m\n\u001b[1;32m      9\u001b[0m display(confusion_matrix(y, model\u001b[38;5;241m.\u001b[39mpredict(X\u001b[38;5;241m.\u001b[39mvalues), normalize\u001b[38;5;241m=\u001b[39m\u001b[38;5;124m'\u001b[39m\u001b[38;5;124mtrue\u001b[39m\u001b[38;5;124m'\u001b[39m))\n\u001b[0;32m---> 10\u001b[0m display(\u001b[43maccuracy_score\u001b[49m\u001b[43m(\u001b[49m\u001b[43my\u001b[49m\u001b[43m,\u001b[49m\u001b[43m \u001b[49m\u001b[43m)\u001b[49m)\n\u001b[1;32m     12\u001b[0m res \u001b[38;5;241m=\u001b[39m plot_tree(model, precision\u001b[38;5;241m=\u001b[39m\u001b[38;5;241m2\u001b[39m, ax\u001b[38;5;241m=\u001b[39max, feature_names\u001b[38;5;241m=\u001b[39mX\u001b[38;5;241m.\u001b[39mcolumns, class_names\u001b[38;5;241m=\u001b[39m{\u001b[38;5;241m0\u001b[39m: \u001b[38;5;124m'\u001b[39m\u001b[38;5;124mNot traded\u001b[39m\u001b[38;5;124m'\u001b[39m, \u001b[38;5;241m1\u001b[39m: \u001b[38;5;124m'\u001b[39m\u001b[38;5;124mTraded\u001b[39m\u001b[38;5;124m'\u001b[39m}, filled\u001b[38;5;241m=\u001b[39m\u001b[38;5;28;01mTrue\u001b[39;00m, proportion\u001b[38;5;241m=\u001b[39m\u001b[38;5;28;01mTrue\u001b[39;00m)\n",
      "File \u001b[0;32m~/.miniforge3/envs/ml-base/lib/python3.11/site-packages/sklearn/utils/_param_validation.py:192\u001b[0m, in \u001b[0;36mvalidate_params.<locals>.decorator.<locals>.wrapper\u001b[0;34m(*args, **kwargs)\u001b[0m\n\u001b[1;32m    189\u001b[0m func_sig \u001b[38;5;241m=\u001b[39m signature(func)\n\u001b[1;32m    191\u001b[0m \u001b[38;5;66;03m# Map *args/**kwargs to the function signature\u001b[39;00m\n\u001b[0;32m--> 192\u001b[0m params \u001b[38;5;241m=\u001b[39m \u001b[43mfunc_sig\u001b[49m\u001b[38;5;241;43m.\u001b[39;49m\u001b[43mbind\u001b[49m\u001b[43m(\u001b[49m\u001b[38;5;241;43m*\u001b[39;49m\u001b[43margs\u001b[49m\u001b[43m,\u001b[49m\u001b[43m \u001b[49m\u001b[38;5;241;43m*\u001b[39;49m\u001b[38;5;241;43m*\u001b[39;49m\u001b[43mkwargs\u001b[49m\u001b[43m)\u001b[49m\n\u001b[1;32m    193\u001b[0m params\u001b[38;5;241m.\u001b[39mapply_defaults()\n\u001b[1;32m    195\u001b[0m \u001b[38;5;66;03m# ignore self/cls and positional/keyword markers\u001b[39;00m\n",
      "File \u001b[0;32m~/.miniforge3/envs/ml-base/lib/python3.11/inspect.py:3212\u001b[0m, in \u001b[0;36mSignature.bind\u001b[0;34m(self, *args, **kwargs)\u001b[0m\n\u001b[1;32m   3207\u001b[0m \u001b[38;5;28;01mdef\u001b[39;00m \u001b[38;5;21mbind\u001b[39m(\u001b[38;5;28mself\u001b[39m, \u001b[38;5;241m/\u001b[39m, \u001b[38;5;241m*\u001b[39margs, \u001b[38;5;241m*\u001b[39m\u001b[38;5;241m*\u001b[39mkwargs):\n\u001b[1;32m   3208\u001b[0m \u001b[38;5;250m    \u001b[39m\u001b[38;5;124;03m\"\"\"Get a BoundArguments object, that maps the passed `args`\u001b[39;00m\n\u001b[1;32m   3209\u001b[0m \u001b[38;5;124;03m    and `kwargs` to the function's signature.  Raises `TypeError`\u001b[39;00m\n\u001b[1;32m   3210\u001b[0m \u001b[38;5;124;03m    if the passed arguments can not be bound.\u001b[39;00m\n\u001b[1;32m   3211\u001b[0m \u001b[38;5;124;03m    \"\"\"\u001b[39;00m\n\u001b[0;32m-> 3212\u001b[0m     \u001b[38;5;28;01mreturn\u001b[39;00m \u001b[38;5;28;43mself\u001b[39;49m\u001b[38;5;241;43m.\u001b[39;49m\u001b[43m_bind\u001b[49m\u001b[43m(\u001b[49m\u001b[43margs\u001b[49m\u001b[43m,\u001b[49m\u001b[43m \u001b[49m\u001b[43mkwargs\u001b[49m\u001b[43m)\u001b[49m\n",
      "File \u001b[0;32m~/.miniforge3/envs/ml-base/lib/python3.11/inspect.py:3127\u001b[0m, in \u001b[0;36mSignature._bind\u001b[0;34m(self, args, kwargs, partial)\u001b[0m\n\u001b[1;32m   3125\u001b[0m                 msg \u001b[38;5;241m=\u001b[39m \u001b[38;5;124m'\u001b[39m\u001b[38;5;124mmissing a required argument: \u001b[39m\u001b[38;5;132;01m{arg!r}\u001b[39;00m\u001b[38;5;124m'\u001b[39m\n\u001b[1;32m   3126\u001b[0m                 msg \u001b[38;5;241m=\u001b[39m msg\u001b[38;5;241m.\u001b[39mformat(arg\u001b[38;5;241m=\u001b[39mparam\u001b[38;5;241m.\u001b[39mname)\n\u001b[0;32m-> 3127\u001b[0m                 \u001b[38;5;28;01mraise\u001b[39;00m \u001b[38;5;167;01mTypeError\u001b[39;00m(msg) \u001b[38;5;28;01mfrom\u001b[39;00m \u001b[38;5;28;01mNone\u001b[39;00m\n\u001b[1;32m   3128\u001b[0m \u001b[38;5;28;01melse\u001b[39;00m:\n\u001b[1;32m   3129\u001b[0m     \u001b[38;5;66;03m# We have a positional argument to process\u001b[39;00m\n\u001b[1;32m   3130\u001b[0m     \u001b[38;5;28;01mtry\u001b[39;00m:\n",
      "\u001b[0;31mTypeError\u001b[0m: missing a required argument: 'y_pred'"
     ]
    },
    {
     "data": {
      "image/png": "[encoded data removed]",
      "text/plain": [
       "<Figure size 2250x900 with 1 Axes>"
      ]
     },
     "metadata": {},
     "output_type": "display_data"
    }
   ],
   "source": [
    "fig, ax = plt.subplots(figsize=(15, 6), dpi=150)\n",
    "\n",
    "model = results[7]['model']\n",
    "model.fit(X.values, y.traded_next_season)\n",
    "# model.tree_.value[..., 0] *= (5857 / 3897.5)\n",
    "# model.tree_.value[..., 1] *= (1938 / 3897.5)\n",
    "# model.class_weight = None\n",
    "\n",
    "display(confusion_matrix(y, model.predict(X.values), normalize='true'))\n",
    "display(accuracy_score(y, model.predict(X.values)))\n",
    "\n",
    "res = plot_tree(model, precision=2, ax=ax, feature_names=X.columns, class_names={0: 'Not traded', 1: 'Traded'}, filled=True, proportion=True)"
   ]
  }
 ],
 "metadata": {
  "kernelspec": {
   "display_name": "base",
   "language": "python",
   "name": "python3"
  },
  "language_info": {
   "codemirror_mode": {
    "name": "ipython",
    "version": 3
   },
   "file_extension": ".py",
   "mimetype": "text/x-python",
   "name": "python",
   "nbconvert_exporter": "python",
   "pygments_lexer": "ipython3",
   "version": "3.11.6"
  }
 },
 "nbformat": 4,
 "nbformat_minor": 2
}
